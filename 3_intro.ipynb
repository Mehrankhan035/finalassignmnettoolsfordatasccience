{
 "cells": [
  {
   "cell_type": "markdown",
   "id": "c5e37830-ee3f-4f1a-914a-afeceaba2dd2",
   "metadata": {
    "tags": []
   },
   "source": [
    "<h1>  DATA SCIENCE TOOLS and ECOSYSTEM </h1>"
   ]
  },
  {
   "cell_type": "markdown",
   "id": "cb22fb41-6db9-4d3c-823f-47f10eaaac36",
   "metadata": {},
   "source": [
    "\n",
    "In this notebook, Data Science Tools and Ecosystem are summarized "
   ]
  },
  {
   "cell_type": "markdown",
   "id": "baacd29f-24a7-40bd-a512-f0110b1b1439",
   "metadata": {},
   "source": [
    "<h1> In this notebook, Data Science Tools and Ecosystem are summarized </h1>"
   ]
  },
  {
   "cell_type": "markdown",
   "id": "5baed1e8-925b-436a-bc37-c165e25eb0a4",
   "metadata": {
    "tags": []
   },
   "source": [
    "<h2> Some of the popular languages that Data Scientists use are: </h2>\n",
    "order list \n",
    "\n",
    "1.  PYTHON\n",
    "2.  C++\n",
    "3.  JAVA\n",
    "4.  R\n"
   ]
  },
  {
   "cell_type": "markdown",
   "id": "5fdac55d-ab08-41b4-96f1-4c5e180fce9b",
   "metadata": {},
   "source": [
    "<h2> Some of the commonly used libraries used by Data Scientists include: </h2>\n",
    "order list\n",
    "\n",
    " 1.  Datasets\n",
    " 2.  caret\n",
    " 3.  plot\n",
    " 4.  cv2"
   ]
  },
  {
   "cell_type": "markdown",
   "id": "2d250ab7-96a7-46b5-9d15-15eba4ea2436",
   "metadata": {},
   "source": [
    "| Data Science | TOOLS  | TABLE  |\n",
    "| -------------| ------ |--------|\n",
    "|Tools         |  works |     IDE|\n",
    "|R Studio      |Statical|   free |\n",
    "| Juptier      |vizali  |   free |"
   ]
  },
  {
   "cell_type": "markdown",
   "id": "87caa6f0-074c-4005-9b1a-4af673a5f55b",
   "metadata": {},
   "source": [
    "<h3> Below are a few examples of evaluating arithmetic expressions in Python </h3>"
   ]
  },
  {
   "cell_type": "code",
   "execution_count": 6,
   "id": "21164e29-b0a7-49b8-9bd2-8382dc0dd8e0",
   "metadata": {
    "tags": []
   },
   "outputs": [
    {
     "name": "stdout",
     "output_type": "stream",
     "text": [
      "17\n"
     ]
    }
   ],
   "source": [
    "#This a simple arithmetic expression to mutiply then add integers\n",
    "print((3*4)+5)"
   ]
  },
  {
   "cell_type": "code",
   "execution_count": 7,
   "id": "0b367344-f43e-4df5-a93a-decc9b284394",
   "metadata": {
    "tags": []
   },
   "outputs": [
    {
     "name": "stdout",
     "output_type": "stream",
     "text": [
      "3.3333333333333335\n"
     ]
    }
   ],
   "source": [
    "# This will convert 200 minutes to hours by diving by 60\n",
    "a = 200\n",
    "b = 60\n",
    "result=a/b\n",
    "print(result)"
   ]
  },
  {
   "cell_type": "markdown",
   "id": "de1f2cf4-1061-4d50-9bde-fc2f1af6e446",
   "metadata": {},
   "source": [
    "**List popular languages for Data Science**\n",
    "\n",
    " unorderlist \n",
    " \n",
    " -  R \n",
    " - python\n",
    " - power BI\n",
    " - Java\n",
    " - SQL \n",
    " - c++\n",
    " - c#\n",
    " - ruby\n",
    " - anaconda\n",
    " - php\n",
    " "
   ]
  },
  {
   "cell_type": "markdown",
   "id": "47334394-dfe3-4b4e-8b83-43bbcbc58b68",
   "metadata": {},
   "source": [
    "<h2> AUTHOR Name</h2>\n",
    "\n",
    "**MEHRAN KHAN** "
   ]
  },
  {
   "cell_type": "code",
   "execution_count": null,
   "id": "1a7f51ff-4b11-416c-a56a-ff5e46e4372b",
   "metadata": {},
   "outputs": [],
   "source": []
  }
 ],
 "metadata": {
  "kernelspec": {
   "display_name": "Python",
   "language": "python",
   "name": "conda-env-python-py"
  },
  "language_info": {
   "codemirror_mode": {
    "name": "ipython",
    "version": 3
   },
   "file_extension": ".py",
   "mimetype": "text/x-python",
   "name": "python",
   "nbconvert_exporter": "python",
   "pygments_lexer": "ipython3",
   "version": "3.7.12"
  }
 },
 "nbformat": 4,
 "nbformat_minor": 5
}
